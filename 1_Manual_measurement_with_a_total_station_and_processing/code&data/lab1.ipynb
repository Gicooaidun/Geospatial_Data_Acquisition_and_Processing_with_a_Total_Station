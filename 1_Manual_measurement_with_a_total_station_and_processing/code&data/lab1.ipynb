{
 "cells": [
  {
   "cell_type": "code",
   "execution_count": 1,
   "metadata": {},
   "outputs": [],
   "source": [
    "from measurement_processing import read_process_file"
   ]
  },
  {
   "cell_type": "markdown",
   "metadata": {},
   "source": [
    "### File Lab1_Challenge_GDAq_2023.GSI"
   ]
  },
  {
   "cell_type": "code",
   "execution_count": 2,
   "metadata": {
    "scrolled": true
   },
   "outputs": [
    {
     "name": "stdout",
     "output_type": "stream",
     "text": [
      "This log contains the output log of the simplified test procedure (horizontal directions) according to ISO 17123-3.\n",
      "\n",
      "Input File: Lab1_Challenge_GDAq_2023.GSI\n",
      "Number of Measured Sets: 4\n",
      "Number of Measured Points: 5\n",
      "Arithmetic Checks: The measurements are correct. All arithmetic checks were successful.\n",
      "Degrees of Freedom: 12\n",
      "Residual Sum of Squares: 4.0749999995031666e-08 mgon²\n",
      "Measurements Standard Deviation: 5.827377911993786e-05 mgon\n"
     ]
    }
   ],
   "source": [
    "read_process_file('Measurements/Lab1_Challenge_GDAq_2023.GSI')\n"
   ]
  },
  {
   "cell_type": "markdown",
   "metadata": {},
   "source": [
    "### File group6.GSI"
   ]
  },
  {
   "cell_type": "code",
   "execution_count": 3,
   "metadata": {},
   "outputs": [
    {
     "name": "stdout",
     "output_type": "stream",
     "text": [
      "This log contains the output log of the simplified test procedure (horizontal directions) according to ISO 17123-3.\n",
      "\n",
      "Input File: group6.GSI\n",
      "Number of Measured Sets: 3\n",
      "Number of Measured Points: 4\n",
      "Arithmetic Checks: The measurements are correct. All arithmetic checks were successful.\n",
      "Degrees of Freedom: 6\n",
      "Residual Sum of Squares: 4.625000001420252e-08 mgon²\n",
      "Measurements Standard Deviation: 8.77971146205866e-05 mgon\n"
     ]
    }
   ],
   "source": [
    "read_process_file('Measurements/group6.GSI')\n"
   ]
  }
 ],
 "metadata": {
  "kernelspec": {
   "display_name": "Python 3 (ipykernel)",
   "language": "python",
   "name": "python3"
  },
  "language_info": {
   "codemirror_mode": {
    "name": "ipython",
    "version": 3
   },
   "file_extension": ".py",
   "mimetype": "text/x-python",
   "name": "python",
   "nbconvert_exporter": "python",
   "pygments_lexer": "ipython3",
   "version": "3.8.12"
  }
 },
 "nbformat": 4,
 "nbformat_minor": 4
}
